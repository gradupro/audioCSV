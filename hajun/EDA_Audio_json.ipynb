{
 "cells": [
  {
   "cell_type": "code",
   "execution_count": 1,
   "metadata": {
    "collapsed": true
   },
   "outputs": [],
   "source": [
    "import numpy as np\n",
    "import pandas as pd"
   ]
  },
  {
   "cell_type": "code",
   "execution_count": 2,
   "outputs": [],
   "source": [
    "csv_1 = '../hajun/2023-02-06-강제추행,강제범,실내.csv'\n",
    "csv_2 = '../jiwon/도움요청,실외.csv'\n",
    "csv_3 = '../hyeonwoo/절도,폭력.csv'\n",
    "\n",
    "df1 = pd.read_csv(csv_1, encoding='utf8', low_memory=False)\n",
    "df2 = pd.read_csv(csv_2, encoding='utf8', low_memory=False)\n",
    "df3 = pd.read_csv(csv_3, encoding='cp949', low_memory=False)"
   ],
   "metadata": {
    "collapsed": false,
    "pycharm": {
     "name": "#%%\n"
    }
   }
  },
  {
   "cell_type": "code",
   "execution_count": 3,
   "outputs": [
    {
     "data": {
      "text/plain": "        fileSize  duration            audio_id  area_start  area_end  \\\n2184     1852232     21.00  16.실외_925735_label         3.0     18.00   \n2185     1852232     21.00  16.실외_925736_label         3.0     18.00   \n2186     1852232     21.00  16.실외_925738_label         3.0     18.00   \n2187     1852232     21.00  16.실외_925739_label         3.0     18.00   \n2188     1852232     21.00  16.실외_925740_label         3.0     18.00   \n...          ...       ...                 ...         ...       ...   \n52815  165012396    214.86  16.실외_910545_label         2.0    212.86   \n52816  165012396    214.86  16.실외_910611_label         2.0    212.86   \n52817  165012396    214.86  16.실외_910650_label         2.0    212.86   \n52818  165012396    214.86  16.실외_911049_label         2.0    212.86   \n52819  243185012   1378.60  16.실외_918043_label         3.0   1375.60   \n\n      category_01 category_02 category_03        note audioType gender  \\\n2184       일반(정상)          실외       실외_공통  경찰차 사이렌 소리     sound    NaN   \n2185       일반(정상)          실외       실외_공통  경찰차 사이렌 소리     sound    NaN   \n2186       일반(정상)          실외       실외_공통  경찰차 사이렌 소리     sound    NaN   \n2187       일반(정상)          실외       실외_공통  경찰차 사이렌 소리     sound    NaN   \n2188       일반(정상)          실외       실외_공통  경찰차 사이렌 소리     sound    NaN   \n...           ...         ...         ...         ...       ...    ...   \n52815      일반(정상)          실외       실외_기차          기차     sound    NaN   \n52816      일반(정상)          실외       실외_기차          기차     sound    NaN   \n52817      일반(정상)          실외       실외_기차          기차     sound    NaN   \n52818      일반(정상)          실외       실외_기차          기차     sound    NaN   \n52819      일반(정상)          실외      실외_공사장   공사장 현장 소리     sound    NaN   \n\n      generation dialect  \n2184         NaN     NaN  \n2185         NaN     NaN  \n2186         NaN     NaN  \n2187         NaN     NaN  \n2188         NaN     NaN  \n...          ...     ...  \n52815        NaN     NaN  \n52816        NaN     NaN  \n52817        NaN     NaN  \n52818        NaN     NaN  \n52819        NaN     NaN  \n\n[12085 rows x 13 columns]",
      "text/html": "<div>\n<style scoped>\n    .dataframe tbody tr th:only-of-type {\n        vertical-align: middle;\n    }\n\n    .dataframe tbody tr th {\n        vertical-align: top;\n    }\n\n    .dataframe thead th {\n        text-align: right;\n    }\n</style>\n<table border=\"1\" class=\"dataframe\">\n  <thead>\n    <tr style=\"text-align: right;\">\n      <th></th>\n      <th>fileSize</th>\n      <th>duration</th>\n      <th>audio_id</th>\n      <th>area_start</th>\n      <th>area_end</th>\n      <th>category_01</th>\n      <th>category_02</th>\n      <th>category_03</th>\n      <th>note</th>\n      <th>audioType</th>\n      <th>gender</th>\n      <th>generation</th>\n      <th>dialect</th>\n    </tr>\n  </thead>\n  <tbody>\n    <tr>\n      <th>2184</th>\n      <td>1852232</td>\n      <td>21.00</td>\n      <td>16.실외_925735_label</td>\n      <td>3.0</td>\n      <td>18.00</td>\n      <td>일반(정상)</td>\n      <td>실외</td>\n      <td>실외_공통</td>\n      <td>경찰차 사이렌 소리</td>\n      <td>sound</td>\n      <td>NaN</td>\n      <td>NaN</td>\n      <td>NaN</td>\n    </tr>\n    <tr>\n      <th>2185</th>\n      <td>1852232</td>\n      <td>21.00</td>\n      <td>16.실외_925736_label</td>\n      <td>3.0</td>\n      <td>18.00</td>\n      <td>일반(정상)</td>\n      <td>실외</td>\n      <td>실외_공통</td>\n      <td>경찰차 사이렌 소리</td>\n      <td>sound</td>\n      <td>NaN</td>\n      <td>NaN</td>\n      <td>NaN</td>\n    </tr>\n    <tr>\n      <th>2186</th>\n      <td>1852232</td>\n      <td>21.00</td>\n      <td>16.실외_925738_label</td>\n      <td>3.0</td>\n      <td>18.00</td>\n      <td>일반(정상)</td>\n      <td>실외</td>\n      <td>실외_공통</td>\n      <td>경찰차 사이렌 소리</td>\n      <td>sound</td>\n      <td>NaN</td>\n      <td>NaN</td>\n      <td>NaN</td>\n    </tr>\n    <tr>\n      <th>2187</th>\n      <td>1852232</td>\n      <td>21.00</td>\n      <td>16.실외_925739_label</td>\n      <td>3.0</td>\n      <td>18.00</td>\n      <td>일반(정상)</td>\n      <td>실외</td>\n      <td>실외_공통</td>\n      <td>경찰차 사이렌 소리</td>\n      <td>sound</td>\n      <td>NaN</td>\n      <td>NaN</td>\n      <td>NaN</td>\n    </tr>\n    <tr>\n      <th>2188</th>\n      <td>1852232</td>\n      <td>21.00</td>\n      <td>16.실외_925740_label</td>\n      <td>3.0</td>\n      <td>18.00</td>\n      <td>일반(정상)</td>\n      <td>실외</td>\n      <td>실외_공통</td>\n      <td>경찰차 사이렌 소리</td>\n      <td>sound</td>\n      <td>NaN</td>\n      <td>NaN</td>\n      <td>NaN</td>\n    </tr>\n    <tr>\n      <th>...</th>\n      <td>...</td>\n      <td>...</td>\n      <td>...</td>\n      <td>...</td>\n      <td>...</td>\n      <td>...</td>\n      <td>...</td>\n      <td>...</td>\n      <td>...</td>\n      <td>...</td>\n      <td>...</td>\n      <td>...</td>\n      <td>...</td>\n    </tr>\n    <tr>\n      <th>52815</th>\n      <td>165012396</td>\n      <td>214.86</td>\n      <td>16.실외_910545_label</td>\n      <td>2.0</td>\n      <td>212.86</td>\n      <td>일반(정상)</td>\n      <td>실외</td>\n      <td>실외_기차</td>\n      <td>기차</td>\n      <td>sound</td>\n      <td>NaN</td>\n      <td>NaN</td>\n      <td>NaN</td>\n    </tr>\n    <tr>\n      <th>52816</th>\n      <td>165012396</td>\n      <td>214.86</td>\n      <td>16.실외_910611_label</td>\n      <td>2.0</td>\n      <td>212.86</td>\n      <td>일반(정상)</td>\n      <td>실외</td>\n      <td>실외_기차</td>\n      <td>기차</td>\n      <td>sound</td>\n      <td>NaN</td>\n      <td>NaN</td>\n      <td>NaN</td>\n    </tr>\n    <tr>\n      <th>52817</th>\n      <td>165012396</td>\n      <td>214.86</td>\n      <td>16.실외_910650_label</td>\n      <td>2.0</td>\n      <td>212.86</td>\n      <td>일반(정상)</td>\n      <td>실외</td>\n      <td>실외_기차</td>\n      <td>기차</td>\n      <td>sound</td>\n      <td>NaN</td>\n      <td>NaN</td>\n      <td>NaN</td>\n    </tr>\n    <tr>\n      <th>52818</th>\n      <td>165012396</td>\n      <td>214.86</td>\n      <td>16.실외_911049_label</td>\n      <td>2.0</td>\n      <td>212.86</td>\n      <td>일반(정상)</td>\n      <td>실외</td>\n      <td>실외_기차</td>\n      <td>기차</td>\n      <td>sound</td>\n      <td>NaN</td>\n      <td>NaN</td>\n      <td>NaN</td>\n    </tr>\n    <tr>\n      <th>52819</th>\n      <td>243185012</td>\n      <td>1378.60</td>\n      <td>16.실외_918043_label</td>\n      <td>3.0</td>\n      <td>1375.60</td>\n      <td>일반(정상)</td>\n      <td>실외</td>\n      <td>실외_공사장</td>\n      <td>공사장 현장 소리</td>\n      <td>sound</td>\n      <td>NaN</td>\n      <td>NaN</td>\n      <td>NaN</td>\n    </tr>\n  </tbody>\n</table>\n<p>12085 rows × 13 columns</p>\n</div>"
     },
     "execution_count": 3,
     "metadata": {},
     "output_type": "execute_result"
    }
   ],
   "source": [
    "test_data = df2[df2['category_02'] == '실외']\n",
    "test_data"
   ],
   "metadata": {
    "collapsed": false,
    "pycharm": {
     "name": "#%%\n"
    }
   }
  },
  {
   "cell_type": "code",
   "execution_count": 4,
   "outputs": [
    {
     "data": {
      "text/plain": "       fileSize  duration             audio_id  area_start  area_end  \\\n0        472776      5.36  4.폭력범죄_574062_label         2.5     2.860   \n1        475422      5.39  4.폭력범죄_574066_label         2.5     2.890   \n2        475422      5.39  4.폭력범죄_574112_label         2.5     2.890   \n3        477186      5.41  4.폭력범죄_574048_label         2.5     2.910   \n4        477186      5.41  4.폭력범죄_574091_label         2.5     2.910   \n...         ...       ...                  ...         ...       ...   \n54253  24696044     70.00  4.폭력범죄_864829_label        16.5    21.913   \n54254  24696044     70.00  4.폭력범죄_864878_label        16.5    20.700   \n54255  24696044     70.00  4.폭력범죄_865019_label        16.5    21.913   \n54256  24696044     70.00  4.폭력범죄_865042_label        16.5    21.240   \n54257  24696044     70.00  4.폭력범죄_865280_label        16.5    21.240   \n\n      category_01 category_02       category_03   note audioType  gender  \\\n0            치안안전        폭력범죄       남_폭력범죄_죽고싶냐    죽을래     voice    male   \n1            치안안전        폭력범죄       남_폭력범죄_죽고싶냐    죽을래     voice    male   \n2            치안안전        폭력범죄       여_폭력범죄_죽고싶냐    죽을래     voice  female   \n3            치안안전        폭력범죄       여_폭력범죄_죽고싶냐    죽을래     voice  female   \n4            치안안전        폭력범죄       남_폭력범죄_죽고싶냐    죽을래     voice    male   \n...           ...         ...               ...    ...       ...     ...   \n54253        치안안전        폭력범죄  남_폭력범죄_살려주세요_실외기  살려주세요     voice    male   \n54254        치안안전        폭력범죄  남_폭력범죄_살려주세요_실외기  살려주세요     voice    male   \n54255        치안안전        폭력범죄  남_폭력범죄_살려주세요_실외기  살려주세요     voice    male   \n54256        치안안전        폭력범죄  남_폭력범죄_살려주세요_실외기  살려주세요     voice    male   \n54257        치안안전        폭력범죄  남_폭력범죄_살려주세요_실외기  살려주세요     voice    male   \n\n      generation   dialect  \n0          adult  standard  \n1          adult  standard  \n2          adult  standard  \n3          adult  standard  \n4          adult  standard  \n...          ...       ...  \n54253      adult  standard  \n54254      adult  standard  \n54255      adult  standard  \n54256      adult  standard  \n54257      adult  standard  \n\n[54258 rows x 13 columns]",
      "text/html": "<div>\n<style scoped>\n    .dataframe tbody tr th:only-of-type {\n        vertical-align: middle;\n    }\n\n    .dataframe tbody tr th {\n        vertical-align: top;\n    }\n\n    .dataframe thead th {\n        text-align: right;\n    }\n</style>\n<table border=\"1\" class=\"dataframe\">\n  <thead>\n    <tr style=\"text-align: right;\">\n      <th></th>\n      <th>fileSize</th>\n      <th>duration</th>\n      <th>audio_id</th>\n      <th>area_start</th>\n      <th>area_end</th>\n      <th>category_01</th>\n      <th>category_02</th>\n      <th>category_03</th>\n      <th>note</th>\n      <th>audioType</th>\n      <th>gender</th>\n      <th>generation</th>\n      <th>dialect</th>\n    </tr>\n  </thead>\n  <tbody>\n    <tr>\n      <th>0</th>\n      <td>472776</td>\n      <td>5.36</td>\n      <td>4.폭력범죄_574062_label</td>\n      <td>2.5</td>\n      <td>2.860</td>\n      <td>치안안전</td>\n      <td>폭력범죄</td>\n      <td>남_폭력범죄_죽고싶냐</td>\n      <td>죽을래</td>\n      <td>voice</td>\n      <td>male</td>\n      <td>adult</td>\n      <td>standard</td>\n    </tr>\n    <tr>\n      <th>1</th>\n      <td>475422</td>\n      <td>5.39</td>\n      <td>4.폭력범죄_574066_label</td>\n      <td>2.5</td>\n      <td>2.890</td>\n      <td>치안안전</td>\n      <td>폭력범죄</td>\n      <td>남_폭력범죄_죽고싶냐</td>\n      <td>죽을래</td>\n      <td>voice</td>\n      <td>male</td>\n      <td>adult</td>\n      <td>standard</td>\n    </tr>\n    <tr>\n      <th>2</th>\n      <td>475422</td>\n      <td>5.39</td>\n      <td>4.폭력범죄_574112_label</td>\n      <td>2.5</td>\n      <td>2.890</td>\n      <td>치안안전</td>\n      <td>폭력범죄</td>\n      <td>여_폭력범죄_죽고싶냐</td>\n      <td>죽을래</td>\n      <td>voice</td>\n      <td>female</td>\n      <td>adult</td>\n      <td>standard</td>\n    </tr>\n    <tr>\n      <th>3</th>\n      <td>477186</td>\n      <td>5.41</td>\n      <td>4.폭력범죄_574048_label</td>\n      <td>2.5</td>\n      <td>2.910</td>\n      <td>치안안전</td>\n      <td>폭력범죄</td>\n      <td>여_폭력범죄_죽고싶냐</td>\n      <td>죽을래</td>\n      <td>voice</td>\n      <td>female</td>\n      <td>adult</td>\n      <td>standard</td>\n    </tr>\n    <tr>\n      <th>4</th>\n      <td>477186</td>\n      <td>5.41</td>\n      <td>4.폭력범죄_574091_label</td>\n      <td>2.5</td>\n      <td>2.910</td>\n      <td>치안안전</td>\n      <td>폭력범죄</td>\n      <td>남_폭력범죄_죽고싶냐</td>\n      <td>죽을래</td>\n      <td>voice</td>\n      <td>male</td>\n      <td>adult</td>\n      <td>standard</td>\n    </tr>\n    <tr>\n      <th>...</th>\n      <td>...</td>\n      <td>...</td>\n      <td>...</td>\n      <td>...</td>\n      <td>...</td>\n      <td>...</td>\n      <td>...</td>\n      <td>...</td>\n      <td>...</td>\n      <td>...</td>\n      <td>...</td>\n      <td>...</td>\n      <td>...</td>\n    </tr>\n    <tr>\n      <th>54253</th>\n      <td>24696044</td>\n      <td>70.00</td>\n      <td>4.폭력범죄_864829_label</td>\n      <td>16.5</td>\n      <td>21.913</td>\n      <td>치안안전</td>\n      <td>폭력범죄</td>\n      <td>남_폭력범죄_살려주세요_실외기</td>\n      <td>살려주세요</td>\n      <td>voice</td>\n      <td>male</td>\n      <td>adult</td>\n      <td>standard</td>\n    </tr>\n    <tr>\n      <th>54254</th>\n      <td>24696044</td>\n      <td>70.00</td>\n      <td>4.폭력범죄_864878_label</td>\n      <td>16.5</td>\n      <td>20.700</td>\n      <td>치안안전</td>\n      <td>폭력범죄</td>\n      <td>남_폭력범죄_살려주세요_실외기</td>\n      <td>살려주세요</td>\n      <td>voice</td>\n      <td>male</td>\n      <td>adult</td>\n      <td>standard</td>\n    </tr>\n    <tr>\n      <th>54255</th>\n      <td>24696044</td>\n      <td>70.00</td>\n      <td>4.폭력범죄_865019_label</td>\n      <td>16.5</td>\n      <td>21.913</td>\n      <td>치안안전</td>\n      <td>폭력범죄</td>\n      <td>남_폭력범죄_살려주세요_실외기</td>\n      <td>살려주세요</td>\n      <td>voice</td>\n      <td>male</td>\n      <td>adult</td>\n      <td>standard</td>\n    </tr>\n    <tr>\n      <th>54256</th>\n      <td>24696044</td>\n      <td>70.00</td>\n      <td>4.폭력범죄_865042_label</td>\n      <td>16.5</td>\n      <td>21.240</td>\n      <td>치안안전</td>\n      <td>폭력범죄</td>\n      <td>남_폭력범죄_살려주세요_실외기</td>\n      <td>살려주세요</td>\n      <td>voice</td>\n      <td>male</td>\n      <td>adult</td>\n      <td>standard</td>\n    </tr>\n    <tr>\n      <th>54257</th>\n      <td>24696044</td>\n      <td>70.00</td>\n      <td>4.폭력범죄_865280_label</td>\n      <td>16.5</td>\n      <td>21.240</td>\n      <td>치안안전</td>\n      <td>폭력범죄</td>\n      <td>남_폭력범죄_살려주세요_실외기</td>\n      <td>살려주세요</td>\n      <td>voice</td>\n      <td>male</td>\n      <td>adult</td>\n      <td>standard</td>\n    </tr>\n  </tbody>\n</table>\n<p>54258 rows × 13 columns</p>\n</div>"
     },
     "execution_count": 4,
     "metadata": {},
     "output_type": "execute_result"
    }
   ],
   "source": [
    "df3"
   ],
   "metadata": {
    "collapsed": false,
    "pycharm": {
     "name": "#%%\n"
    }
   }
  },
  {
   "cell_type": "code",
   "execution_count": 5,
   "outputs": [
    {
     "data": {
      "text/plain": "        fileSize  duration            audio_id  area_start  area_end  \\\n2184     1852232     21.00  16.실외_925735_label         3.0     18.00   \n2185     1852232     21.00  16.실외_925736_label         3.0     18.00   \n2186     1852232     21.00  16.실외_925738_label         3.0     18.00   \n2187     1852232     21.00  16.실외_925739_label         3.0     18.00   \n2188     1852232     21.00  16.실외_925740_label         3.0     18.00   \n...          ...       ...                 ...         ...       ...   \n52815  165012396    214.86  16.실외_910545_label         2.0    212.86   \n52816  165012396    214.86  16.실외_910611_label         2.0    212.86   \n52817  165012396    214.86  16.실외_910650_label         2.0    212.86   \n52818  165012396    214.86  16.실외_911049_label         2.0    212.86   \n52819  243185012   1378.60  16.실외_918043_label         3.0   1375.60   \n\n      category_01 category_02 category_03        note audioType gender  \\\n2184       일반(정상)          실외       실외_공통  경찰차 사이렌 소리     sound    NaN   \n2185       일반(정상)          실외       실외_공통  경찰차 사이렌 소리     sound    NaN   \n2186       일반(정상)          실외       실외_공통  경찰차 사이렌 소리     sound    NaN   \n2187       일반(정상)          실외       실외_공통  경찰차 사이렌 소리     sound    NaN   \n2188       일반(정상)          실외       실외_공통  경찰차 사이렌 소리     sound    NaN   \n...           ...         ...         ...         ...       ...    ...   \n52815      일반(정상)          실외       실외_기차          기차     sound    NaN   \n52816      일반(정상)          실외       실외_기차          기차     sound    NaN   \n52817      일반(정상)          실외       실외_기차          기차     sound    NaN   \n52818      일반(정상)          실외       실외_기차          기차     sound    NaN   \n52819      일반(정상)          실외      실외_공사장   공사장 현장 소리     sound    NaN   \n\n      generation dialect  \n2184         NaN     NaN  \n2185         NaN     NaN  \n2186         NaN     NaN  \n2187         NaN     NaN  \n2188         NaN     NaN  \n...          ...     ...  \n52815        NaN     NaN  \n52816        NaN     NaN  \n52817        NaN     NaN  \n52818        NaN     NaN  \n52819        NaN     NaN  \n\n[12085 rows x 13 columns]",
      "text/html": "<div>\n<style scoped>\n    .dataframe tbody tr th:only-of-type {\n        vertical-align: middle;\n    }\n\n    .dataframe tbody tr th {\n        vertical-align: top;\n    }\n\n    .dataframe thead th {\n        text-align: right;\n    }\n</style>\n<table border=\"1\" class=\"dataframe\">\n  <thead>\n    <tr style=\"text-align: right;\">\n      <th></th>\n      <th>fileSize</th>\n      <th>duration</th>\n      <th>audio_id</th>\n      <th>area_start</th>\n      <th>area_end</th>\n      <th>category_01</th>\n      <th>category_02</th>\n      <th>category_03</th>\n      <th>note</th>\n      <th>audioType</th>\n      <th>gender</th>\n      <th>generation</th>\n      <th>dialect</th>\n    </tr>\n  </thead>\n  <tbody>\n    <tr>\n      <th>2184</th>\n      <td>1852232</td>\n      <td>21.00</td>\n      <td>16.실외_925735_label</td>\n      <td>3.0</td>\n      <td>18.00</td>\n      <td>일반(정상)</td>\n      <td>실외</td>\n      <td>실외_공통</td>\n      <td>경찰차 사이렌 소리</td>\n      <td>sound</td>\n      <td>NaN</td>\n      <td>NaN</td>\n      <td>NaN</td>\n    </tr>\n    <tr>\n      <th>2185</th>\n      <td>1852232</td>\n      <td>21.00</td>\n      <td>16.실외_925736_label</td>\n      <td>3.0</td>\n      <td>18.00</td>\n      <td>일반(정상)</td>\n      <td>실외</td>\n      <td>실외_공통</td>\n      <td>경찰차 사이렌 소리</td>\n      <td>sound</td>\n      <td>NaN</td>\n      <td>NaN</td>\n      <td>NaN</td>\n    </tr>\n    <tr>\n      <th>2186</th>\n      <td>1852232</td>\n      <td>21.00</td>\n      <td>16.실외_925738_label</td>\n      <td>3.0</td>\n      <td>18.00</td>\n      <td>일반(정상)</td>\n      <td>실외</td>\n      <td>실외_공통</td>\n      <td>경찰차 사이렌 소리</td>\n      <td>sound</td>\n      <td>NaN</td>\n      <td>NaN</td>\n      <td>NaN</td>\n    </tr>\n    <tr>\n      <th>2187</th>\n      <td>1852232</td>\n      <td>21.00</td>\n      <td>16.실외_925739_label</td>\n      <td>3.0</td>\n      <td>18.00</td>\n      <td>일반(정상)</td>\n      <td>실외</td>\n      <td>실외_공통</td>\n      <td>경찰차 사이렌 소리</td>\n      <td>sound</td>\n      <td>NaN</td>\n      <td>NaN</td>\n      <td>NaN</td>\n    </tr>\n    <tr>\n      <th>2188</th>\n      <td>1852232</td>\n      <td>21.00</td>\n      <td>16.실외_925740_label</td>\n      <td>3.0</td>\n      <td>18.00</td>\n      <td>일반(정상)</td>\n      <td>실외</td>\n      <td>실외_공통</td>\n      <td>경찰차 사이렌 소리</td>\n      <td>sound</td>\n      <td>NaN</td>\n      <td>NaN</td>\n      <td>NaN</td>\n    </tr>\n    <tr>\n      <th>...</th>\n      <td>...</td>\n      <td>...</td>\n      <td>...</td>\n      <td>...</td>\n      <td>...</td>\n      <td>...</td>\n      <td>...</td>\n      <td>...</td>\n      <td>...</td>\n      <td>...</td>\n      <td>...</td>\n      <td>...</td>\n      <td>...</td>\n    </tr>\n    <tr>\n      <th>52815</th>\n      <td>165012396</td>\n      <td>214.86</td>\n      <td>16.실외_910545_label</td>\n      <td>2.0</td>\n      <td>212.86</td>\n      <td>일반(정상)</td>\n      <td>실외</td>\n      <td>실외_기차</td>\n      <td>기차</td>\n      <td>sound</td>\n      <td>NaN</td>\n      <td>NaN</td>\n      <td>NaN</td>\n    </tr>\n    <tr>\n      <th>52816</th>\n      <td>165012396</td>\n      <td>214.86</td>\n      <td>16.실외_910611_label</td>\n      <td>2.0</td>\n      <td>212.86</td>\n      <td>일반(정상)</td>\n      <td>실외</td>\n      <td>실외_기차</td>\n      <td>기차</td>\n      <td>sound</td>\n      <td>NaN</td>\n      <td>NaN</td>\n      <td>NaN</td>\n    </tr>\n    <tr>\n      <th>52817</th>\n      <td>165012396</td>\n      <td>214.86</td>\n      <td>16.실외_910650_label</td>\n      <td>2.0</td>\n      <td>212.86</td>\n      <td>일반(정상)</td>\n      <td>실외</td>\n      <td>실외_기차</td>\n      <td>기차</td>\n      <td>sound</td>\n      <td>NaN</td>\n      <td>NaN</td>\n      <td>NaN</td>\n    </tr>\n    <tr>\n      <th>52818</th>\n      <td>165012396</td>\n      <td>214.86</td>\n      <td>16.실외_911049_label</td>\n      <td>2.0</td>\n      <td>212.86</td>\n      <td>일반(정상)</td>\n      <td>실외</td>\n      <td>실외_기차</td>\n      <td>기차</td>\n      <td>sound</td>\n      <td>NaN</td>\n      <td>NaN</td>\n      <td>NaN</td>\n    </tr>\n    <tr>\n      <th>52819</th>\n      <td>243185012</td>\n      <td>1378.60</td>\n      <td>16.실외_918043_label</td>\n      <td>3.0</td>\n      <td>1375.60</td>\n      <td>일반(정상)</td>\n      <td>실외</td>\n      <td>실외_공사장</td>\n      <td>공사장 현장 소리</td>\n      <td>sound</td>\n      <td>NaN</td>\n      <td>NaN</td>\n      <td>NaN</td>\n    </tr>\n  </tbody>\n</table>\n<p>12085 rows × 13 columns</p>\n</div>"
     },
     "execution_count": 5,
     "metadata": {},
     "output_type": "execute_result"
    }
   ],
   "source": [
    "test_data"
   ],
   "metadata": {
    "collapsed": false,
    "pycharm": {
     "name": "#%%\n"
    }
   }
  },
  {
   "cell_type": "code",
   "execution_count": 6,
   "outputs": [],
   "source": [
    "data_merged = pd.concat([df1, df2, df3])"
   ],
   "metadata": {
    "collapsed": false,
    "pycharm": {
     "name": "#%%\n"
    }
   }
  },
  {
   "cell_type": "code",
   "execution_count": 7,
   "outputs": [
    {
     "data": {
      "text/plain": "       fileSize  duration             audio_id  area_start  area_end  \\\n0        184382      2.09  2.강도범죄_352380_label       0.045     2.455   \n1        184382      2.09  2.강도범죄_352512_label       0.045     2.805   \n2        184382      2.09  2.강도범죄_352620_label       0.045     2.575   \n3        184382      2.09  2.강도범죄_352838_label       0.045     2.925   \n4        184382      2.09  2.강도범죄_352869_label       0.045     2.685   \n...         ...       ...                  ...         ...       ...   \n54253  24696044     70.00  4.폭력범죄_864829_label      16.500    21.913   \n54254  24696044     70.00  4.폭력범죄_864878_label      16.500    20.700   \n54255  24696044     70.00  4.폭력범죄_865019_label      16.500    21.913   \n54256  24696044     70.00  4.폭력범죄_865042_label      16.500    21.240   \n54257  24696044     70.00  4.폭력범죄_865280_label      16.500    21.240   \n\n      category_01 category_02        category_03   note audioType  gender  \\\n0            치안안전        강도범죄  남_치안안전_죽고싶어_입막음소리    죽을래     voice    male   \n1            치안안전        강도범죄  여_치안안전_죽고싶어_입막음소리   죽고싶어     voice  female   \n2            치안안전        강도범죄  남_치안안전_죽고싶어_입막음소리    죽을래     voice    male   \n3            치안안전        강도범죄  여_치안안전_죽고싶어_입막음소리  죽여버린다     voice  female   \n4            치안안전        강도범죄  남_치안안전_죽고싶어_입막음소리   죽고싶어     voice    male   \n...           ...         ...                ...    ...       ...     ...   \n54253        치안안전        폭력범죄   남_폭력범죄_살려주세요_실외기  살려주세요     voice    male   \n54254        치안안전        폭력범죄   남_폭력범죄_살려주세요_실외기  살려주세요     voice    male   \n54255        치안안전        폭력범죄   남_폭력범죄_살려주세요_실외기  살려주세요     voice    male   \n54256        치안안전        폭력범죄   남_폭력범죄_살려주세요_실외기  살려주세요     voice    male   \n54257        치안안전        폭력범죄   남_폭력범죄_살려주세요_실외기  살려주세요     voice    male   \n\n      generation   dialect  \n0          adult  standard  \n1          adult  standard  \n2          adult  standard  \n3          adult  standard  \n4          adult  standard  \n...          ...       ...  \n54253      adult  standard  \n54254      adult  standard  \n54255      adult  standard  \n54256      adult  standard  \n54257      adult  standard  \n\n[178648 rows x 13 columns]",
      "text/html": "<div>\n<style scoped>\n    .dataframe tbody tr th:only-of-type {\n        vertical-align: middle;\n    }\n\n    .dataframe tbody tr th {\n        vertical-align: top;\n    }\n\n    .dataframe thead th {\n        text-align: right;\n    }\n</style>\n<table border=\"1\" class=\"dataframe\">\n  <thead>\n    <tr style=\"text-align: right;\">\n      <th></th>\n      <th>fileSize</th>\n      <th>duration</th>\n      <th>audio_id</th>\n      <th>area_start</th>\n      <th>area_end</th>\n      <th>category_01</th>\n      <th>category_02</th>\n      <th>category_03</th>\n      <th>note</th>\n      <th>audioType</th>\n      <th>gender</th>\n      <th>generation</th>\n      <th>dialect</th>\n    </tr>\n  </thead>\n  <tbody>\n    <tr>\n      <th>0</th>\n      <td>184382</td>\n      <td>2.09</td>\n      <td>2.강도범죄_352380_label</td>\n      <td>0.045</td>\n      <td>2.455</td>\n      <td>치안안전</td>\n      <td>강도범죄</td>\n      <td>남_치안안전_죽고싶어_입막음소리</td>\n      <td>죽을래</td>\n      <td>voice</td>\n      <td>male</td>\n      <td>adult</td>\n      <td>standard</td>\n    </tr>\n    <tr>\n      <th>1</th>\n      <td>184382</td>\n      <td>2.09</td>\n      <td>2.강도범죄_352512_label</td>\n      <td>0.045</td>\n      <td>2.805</td>\n      <td>치안안전</td>\n      <td>강도범죄</td>\n      <td>여_치안안전_죽고싶어_입막음소리</td>\n      <td>죽고싶어</td>\n      <td>voice</td>\n      <td>female</td>\n      <td>adult</td>\n      <td>standard</td>\n    </tr>\n    <tr>\n      <th>2</th>\n      <td>184382</td>\n      <td>2.09</td>\n      <td>2.강도범죄_352620_label</td>\n      <td>0.045</td>\n      <td>2.575</td>\n      <td>치안안전</td>\n      <td>강도범죄</td>\n      <td>남_치안안전_죽고싶어_입막음소리</td>\n      <td>죽을래</td>\n      <td>voice</td>\n      <td>male</td>\n      <td>adult</td>\n      <td>standard</td>\n    </tr>\n    <tr>\n      <th>3</th>\n      <td>184382</td>\n      <td>2.09</td>\n      <td>2.강도범죄_352838_label</td>\n      <td>0.045</td>\n      <td>2.925</td>\n      <td>치안안전</td>\n      <td>강도범죄</td>\n      <td>여_치안안전_죽고싶어_입막음소리</td>\n      <td>죽여버린다</td>\n      <td>voice</td>\n      <td>female</td>\n      <td>adult</td>\n      <td>standard</td>\n    </tr>\n    <tr>\n      <th>4</th>\n      <td>184382</td>\n      <td>2.09</td>\n      <td>2.강도범죄_352869_label</td>\n      <td>0.045</td>\n      <td>2.685</td>\n      <td>치안안전</td>\n      <td>강도범죄</td>\n      <td>남_치안안전_죽고싶어_입막음소리</td>\n      <td>죽고싶어</td>\n      <td>voice</td>\n      <td>male</td>\n      <td>adult</td>\n      <td>standard</td>\n    </tr>\n    <tr>\n      <th>...</th>\n      <td>...</td>\n      <td>...</td>\n      <td>...</td>\n      <td>...</td>\n      <td>...</td>\n      <td>...</td>\n      <td>...</td>\n      <td>...</td>\n      <td>...</td>\n      <td>...</td>\n      <td>...</td>\n      <td>...</td>\n      <td>...</td>\n    </tr>\n    <tr>\n      <th>54253</th>\n      <td>24696044</td>\n      <td>70.00</td>\n      <td>4.폭력범죄_864829_label</td>\n      <td>16.500</td>\n      <td>21.913</td>\n      <td>치안안전</td>\n      <td>폭력범죄</td>\n      <td>남_폭력범죄_살려주세요_실외기</td>\n      <td>살려주세요</td>\n      <td>voice</td>\n      <td>male</td>\n      <td>adult</td>\n      <td>standard</td>\n    </tr>\n    <tr>\n      <th>54254</th>\n      <td>24696044</td>\n      <td>70.00</td>\n      <td>4.폭력범죄_864878_label</td>\n      <td>16.500</td>\n      <td>20.700</td>\n      <td>치안안전</td>\n      <td>폭력범죄</td>\n      <td>남_폭력범죄_살려주세요_실외기</td>\n      <td>살려주세요</td>\n      <td>voice</td>\n      <td>male</td>\n      <td>adult</td>\n      <td>standard</td>\n    </tr>\n    <tr>\n      <th>54255</th>\n      <td>24696044</td>\n      <td>70.00</td>\n      <td>4.폭력범죄_865019_label</td>\n      <td>16.500</td>\n      <td>21.913</td>\n      <td>치안안전</td>\n      <td>폭력범죄</td>\n      <td>남_폭력범죄_살려주세요_실외기</td>\n      <td>살려주세요</td>\n      <td>voice</td>\n      <td>male</td>\n      <td>adult</td>\n      <td>standard</td>\n    </tr>\n    <tr>\n      <th>54256</th>\n      <td>24696044</td>\n      <td>70.00</td>\n      <td>4.폭력범죄_865042_label</td>\n      <td>16.500</td>\n      <td>21.240</td>\n      <td>치안안전</td>\n      <td>폭력범죄</td>\n      <td>남_폭력범죄_살려주세요_실외기</td>\n      <td>살려주세요</td>\n      <td>voice</td>\n      <td>male</td>\n      <td>adult</td>\n      <td>standard</td>\n    </tr>\n    <tr>\n      <th>54257</th>\n      <td>24696044</td>\n      <td>70.00</td>\n      <td>4.폭력범죄_865280_label</td>\n      <td>16.500</td>\n      <td>21.240</td>\n      <td>치안안전</td>\n      <td>폭력범죄</td>\n      <td>남_폭력범죄_살려주세요_실외기</td>\n      <td>살려주세요</td>\n      <td>voice</td>\n      <td>male</td>\n      <td>adult</td>\n      <td>standard</td>\n    </tr>\n  </tbody>\n</table>\n<p>178648 rows × 13 columns</p>\n</div>"
     },
     "execution_count": 7,
     "metadata": {},
     "output_type": "execute_result"
    }
   ],
   "source": [
    "data_merged"
   ],
   "metadata": {
    "collapsed": false,
    "pycharm": {
     "name": "#%%\n"
    }
   }
  },
  {
   "cell_type": "code",
   "execution_count": 40,
   "outputs": [
    {
     "data": {
      "text/plain": "        Unnamed: 0  fileSize  duration             audio_id  area_start  \\\n0                0    184382      2.09  2.강도범죄_352380_label       0.045   \n1                1    184382      2.09  2.강도범죄_352512_label       0.045   \n2                2    184382      2.09  2.강도범죄_352620_label       0.045   \n3                3    184382      2.09  2.강도범죄_352838_label       0.045   \n4                4    184382      2.09  2.강도범죄_352869_label       0.045   \n...            ...       ...       ...                  ...         ...   \n178643       54253  24696044     70.00  4.폭력범죄_864829_label      16.500   \n178644       54254  24696044     70.00  4.폭력범죄_864878_label      16.500   \n178645       54255  24696044     70.00  4.폭력범죄_865019_label      16.500   \n178646       54256  24696044     70.00  4.폭력범죄_865042_label      16.500   \n178647       54257  24696044     70.00  4.폭력범죄_865280_label      16.500   \n\n        area_end category_01 category_02        category_03   note audioType  \\\n0          2.455        치안안전        강도범죄  남_치안안전_죽고싶어_입막음소리    죽을래     voice   \n1          2.805        치안안전        강도범죄  여_치안안전_죽고싶어_입막음소리   죽고싶어     voice   \n2          2.575        치안안전        강도범죄  남_치안안전_죽고싶어_입막음소리    죽을래     voice   \n3          2.925        치안안전        강도범죄  여_치안안전_죽고싶어_입막음소리  죽여버린다     voice   \n4          2.685        치안안전        강도범죄  남_치안안전_죽고싶어_입막음소리   죽고싶어     voice   \n...          ...         ...         ...                ...    ...       ...   \n178643    21.913        치안안전        폭력범죄   남_폭력범죄_살려주세요_실외기  살려주세요     voice   \n178644    20.700        치안안전        폭력범죄   남_폭력범죄_살려주세요_실외기  살려주세요     voice   \n178645    21.913        치안안전        폭력범죄   남_폭력범죄_살려주세요_실외기  살려주세요     voice   \n178646    21.240        치안안전        폭력범죄   남_폭력범죄_살려주세요_실외기  살려주세요     voice   \n178647    21.240        치안안전        폭력범죄   남_폭력범죄_살려주세요_실외기  살려주세요     voice   \n\n        gender generation   dialect  \n0         male      adult  standard  \n1       female      adult  standard  \n2         male      adult  standard  \n3       female      adult  standard  \n4         male      adult  standard  \n...        ...        ...       ...  \n178643    male      adult  standard  \n178644    male      adult  standard  \n178645    male      adult  standard  \n178646    male      adult  standard  \n178647    male      adult  standard  \n\n[178648 rows x 14 columns]",
      "text/html": "<div>\n<style scoped>\n    .dataframe tbody tr th:only-of-type {\n        vertical-align: middle;\n    }\n\n    .dataframe tbody tr th {\n        vertical-align: top;\n    }\n\n    .dataframe thead th {\n        text-align: right;\n    }\n</style>\n<table border=\"1\" class=\"dataframe\">\n  <thead>\n    <tr style=\"text-align: right;\">\n      <th></th>\n      <th>Unnamed: 0</th>\n      <th>fileSize</th>\n      <th>duration</th>\n      <th>audio_id</th>\n      <th>area_start</th>\n      <th>area_end</th>\n      <th>category_01</th>\n      <th>category_02</th>\n      <th>category_03</th>\n      <th>note</th>\n      <th>audioType</th>\n      <th>gender</th>\n      <th>generation</th>\n      <th>dialect</th>\n    </tr>\n  </thead>\n  <tbody>\n    <tr>\n      <th>0</th>\n      <td>0</td>\n      <td>184382</td>\n      <td>2.09</td>\n      <td>2.강도범죄_352380_label</td>\n      <td>0.045</td>\n      <td>2.455</td>\n      <td>치안안전</td>\n      <td>강도범죄</td>\n      <td>남_치안안전_죽고싶어_입막음소리</td>\n      <td>죽을래</td>\n      <td>voice</td>\n      <td>male</td>\n      <td>adult</td>\n      <td>standard</td>\n    </tr>\n    <tr>\n      <th>1</th>\n      <td>1</td>\n      <td>184382</td>\n      <td>2.09</td>\n      <td>2.강도범죄_352512_label</td>\n      <td>0.045</td>\n      <td>2.805</td>\n      <td>치안안전</td>\n      <td>강도범죄</td>\n      <td>여_치안안전_죽고싶어_입막음소리</td>\n      <td>죽고싶어</td>\n      <td>voice</td>\n      <td>female</td>\n      <td>adult</td>\n      <td>standard</td>\n    </tr>\n    <tr>\n      <th>2</th>\n      <td>2</td>\n      <td>184382</td>\n      <td>2.09</td>\n      <td>2.강도범죄_352620_label</td>\n      <td>0.045</td>\n      <td>2.575</td>\n      <td>치안안전</td>\n      <td>강도범죄</td>\n      <td>남_치안안전_죽고싶어_입막음소리</td>\n      <td>죽을래</td>\n      <td>voice</td>\n      <td>male</td>\n      <td>adult</td>\n      <td>standard</td>\n    </tr>\n    <tr>\n      <th>3</th>\n      <td>3</td>\n      <td>184382</td>\n      <td>2.09</td>\n      <td>2.강도범죄_352838_label</td>\n      <td>0.045</td>\n      <td>2.925</td>\n      <td>치안안전</td>\n      <td>강도범죄</td>\n      <td>여_치안안전_죽고싶어_입막음소리</td>\n      <td>죽여버린다</td>\n      <td>voice</td>\n      <td>female</td>\n      <td>adult</td>\n      <td>standard</td>\n    </tr>\n    <tr>\n      <th>4</th>\n      <td>4</td>\n      <td>184382</td>\n      <td>2.09</td>\n      <td>2.강도범죄_352869_label</td>\n      <td>0.045</td>\n      <td>2.685</td>\n      <td>치안안전</td>\n      <td>강도범죄</td>\n      <td>남_치안안전_죽고싶어_입막음소리</td>\n      <td>죽고싶어</td>\n      <td>voice</td>\n      <td>male</td>\n      <td>adult</td>\n      <td>standard</td>\n    </tr>\n    <tr>\n      <th>...</th>\n      <td>...</td>\n      <td>...</td>\n      <td>...</td>\n      <td>...</td>\n      <td>...</td>\n      <td>...</td>\n      <td>...</td>\n      <td>...</td>\n      <td>...</td>\n      <td>...</td>\n      <td>...</td>\n      <td>...</td>\n      <td>...</td>\n      <td>...</td>\n    </tr>\n    <tr>\n      <th>178643</th>\n      <td>54253</td>\n      <td>24696044</td>\n      <td>70.00</td>\n      <td>4.폭력범죄_864829_label</td>\n      <td>16.500</td>\n      <td>21.913</td>\n      <td>치안안전</td>\n      <td>폭력범죄</td>\n      <td>남_폭력범죄_살려주세요_실외기</td>\n      <td>살려주세요</td>\n      <td>voice</td>\n      <td>male</td>\n      <td>adult</td>\n      <td>standard</td>\n    </tr>\n    <tr>\n      <th>178644</th>\n      <td>54254</td>\n      <td>24696044</td>\n      <td>70.00</td>\n      <td>4.폭력범죄_864878_label</td>\n      <td>16.500</td>\n      <td>20.700</td>\n      <td>치안안전</td>\n      <td>폭력범죄</td>\n      <td>남_폭력범죄_살려주세요_실외기</td>\n      <td>살려주세요</td>\n      <td>voice</td>\n      <td>male</td>\n      <td>adult</td>\n      <td>standard</td>\n    </tr>\n    <tr>\n      <th>178645</th>\n      <td>54255</td>\n      <td>24696044</td>\n      <td>70.00</td>\n      <td>4.폭력범죄_865019_label</td>\n      <td>16.500</td>\n      <td>21.913</td>\n      <td>치안안전</td>\n      <td>폭력범죄</td>\n      <td>남_폭력범죄_살려주세요_실외기</td>\n      <td>살려주세요</td>\n      <td>voice</td>\n      <td>male</td>\n      <td>adult</td>\n      <td>standard</td>\n    </tr>\n    <tr>\n      <th>178646</th>\n      <td>54256</td>\n      <td>24696044</td>\n      <td>70.00</td>\n      <td>4.폭력범죄_865042_label</td>\n      <td>16.500</td>\n      <td>21.240</td>\n      <td>치안안전</td>\n      <td>폭력범죄</td>\n      <td>남_폭력범죄_살려주세요_실외기</td>\n      <td>살려주세요</td>\n      <td>voice</td>\n      <td>male</td>\n      <td>adult</td>\n      <td>standard</td>\n    </tr>\n    <tr>\n      <th>178647</th>\n      <td>54257</td>\n      <td>24696044</td>\n      <td>70.00</td>\n      <td>4.폭력범죄_865280_label</td>\n      <td>16.500</td>\n      <td>21.240</td>\n      <td>치안안전</td>\n      <td>폭력범죄</td>\n      <td>남_폭력범죄_살려주세요_실외기</td>\n      <td>살려주세요</td>\n      <td>voice</td>\n      <td>male</td>\n      <td>adult</td>\n      <td>standard</td>\n    </tr>\n  </tbody>\n</table>\n<p>178648 rows × 14 columns</p>\n</div>"
     },
     "execution_count": 40,
     "metadata": {},
     "output_type": "execute_result"
    }
   ],
   "source": [
    "data_merged.to_csv('../merged_data.csv')\n",
    "merged = pd.read_csv('../merged_data.csv', encoding='utf8', low_memory=False)"
   ],
   "metadata": {
    "collapsed": false,
    "pycharm": {
     "name": "#%%\n"
    }
   }
  },
  {
   "cell_type": "code",
   "execution_count": 44,
   "outputs": [
    {
     "data": {
      "text/plain": "807850"
     },
     "execution_count": 44,
     "metadata": {},
     "output_type": "execute_result"
    }
   ],
   "source": [
    "data_merged['fileSize'].sum()//(1024*1024)"
   ],
   "metadata": {
    "collapsed": false,
    "pycharm": {
     "name": "#%%\n"
    }
   }
  },
  {
   "cell_type": "code",
   "execution_count": 10,
   "outputs": [
    {
     "data": {
      "text/plain": "   fileSize  duration             audio_id  area_start  area_end category_01  \\\n0    184382      2.09  2.강도범죄_352380_label       0.045     2.455        치안안전   \n1    184382      2.09  2.강도범죄_352512_label       0.045     2.805        치안안전   \n2    184382      2.09  2.강도범죄_352620_label       0.045     2.575        치안안전   \n3    184382      2.09  2.강도범죄_352838_label       0.045     2.925        치안안전   \n4    184382      2.09  2.강도범죄_352869_label       0.045     2.685        치안안전   \n\n  category_02        category_03   note audioType  gender generation   dialect  \n0        강도범죄  남_치안안전_죽고싶어_입막음소리    죽을래     voice    male      adult  standard  \n1        강도범죄  여_치안안전_죽고싶어_입막음소리   죽고싶어     voice  female      adult  standard  \n2        강도범죄  남_치안안전_죽고싶어_입막음소리    죽을래     voice    male      adult  standard  \n3        강도범죄  여_치안안전_죽고싶어_입막음소리  죽여버린다     voice  female      adult  standard  \n4        강도범죄  남_치안안전_죽고싶어_입막음소리   죽고싶어     voice    male      adult  standard  ",
      "text/html": "<div>\n<style scoped>\n    .dataframe tbody tr th:only-of-type {\n        vertical-align: middle;\n    }\n\n    .dataframe tbody tr th {\n        vertical-align: top;\n    }\n\n    .dataframe thead th {\n        text-align: right;\n    }\n</style>\n<table border=\"1\" class=\"dataframe\">\n  <thead>\n    <tr style=\"text-align: right;\">\n      <th></th>\n      <th>fileSize</th>\n      <th>duration</th>\n      <th>audio_id</th>\n      <th>area_start</th>\n      <th>area_end</th>\n      <th>category_01</th>\n      <th>category_02</th>\n      <th>category_03</th>\n      <th>note</th>\n      <th>audioType</th>\n      <th>gender</th>\n      <th>generation</th>\n      <th>dialect</th>\n    </tr>\n  </thead>\n  <tbody>\n    <tr>\n      <th>0</th>\n      <td>184382</td>\n      <td>2.09</td>\n      <td>2.강도범죄_352380_label</td>\n      <td>0.045</td>\n      <td>2.455</td>\n      <td>치안안전</td>\n      <td>강도범죄</td>\n      <td>남_치안안전_죽고싶어_입막음소리</td>\n      <td>죽을래</td>\n      <td>voice</td>\n      <td>male</td>\n      <td>adult</td>\n      <td>standard</td>\n    </tr>\n    <tr>\n      <th>1</th>\n      <td>184382</td>\n      <td>2.09</td>\n      <td>2.강도범죄_352512_label</td>\n      <td>0.045</td>\n      <td>2.805</td>\n      <td>치안안전</td>\n      <td>강도범죄</td>\n      <td>여_치안안전_죽고싶어_입막음소리</td>\n      <td>죽고싶어</td>\n      <td>voice</td>\n      <td>female</td>\n      <td>adult</td>\n      <td>standard</td>\n    </tr>\n    <tr>\n      <th>2</th>\n      <td>184382</td>\n      <td>2.09</td>\n      <td>2.강도범죄_352620_label</td>\n      <td>0.045</td>\n      <td>2.575</td>\n      <td>치안안전</td>\n      <td>강도범죄</td>\n      <td>남_치안안전_죽고싶어_입막음소리</td>\n      <td>죽을래</td>\n      <td>voice</td>\n      <td>male</td>\n      <td>adult</td>\n      <td>standard</td>\n    </tr>\n    <tr>\n      <th>3</th>\n      <td>184382</td>\n      <td>2.09</td>\n      <td>2.강도범죄_352838_label</td>\n      <td>0.045</td>\n      <td>2.925</td>\n      <td>치안안전</td>\n      <td>강도범죄</td>\n      <td>여_치안안전_죽고싶어_입막음소리</td>\n      <td>죽여버린다</td>\n      <td>voice</td>\n      <td>female</td>\n      <td>adult</td>\n      <td>standard</td>\n    </tr>\n    <tr>\n      <th>4</th>\n      <td>184382</td>\n      <td>2.09</td>\n      <td>2.강도범죄_352869_label</td>\n      <td>0.045</td>\n      <td>2.685</td>\n      <td>치안안전</td>\n      <td>강도범죄</td>\n      <td>남_치안안전_죽고싶어_입막음소리</td>\n      <td>죽고싶어</td>\n      <td>voice</td>\n      <td>male</td>\n      <td>adult</td>\n      <td>standard</td>\n    </tr>\n  </tbody>\n</table>\n</div>"
     },
     "metadata": {},
     "output_type": "display_data"
    },
    {
     "data": {
      "text/plain": "       fileSize  duration            audio_id  area_start  area_end  \\\n71565  18003572   102.061  15.실내_915418_label         3.0    99.061   \n71566  19260428   100.314  15.실내_892249_label         3.0    97.315   \n71567  19641972   111.349  15.실내_915841_label         3.0   108.349   \n71568  20784140   108.250  15.실내_918360_label         3.0   105.251   \n71569  37628752   426.629  15.실내_906200_label         3.0   423.629   \n\n      category_01 category_02 category_03      note audioType gender  \\\n71565      일반(정상)          실내       실내_주방   전자레인지소리     sound    NaN   \n71566      일반(정상)          실내       실내_공통  악기 이용 소리     sound    NaN   \n71567      일반(정상)          실내       실내_주방  기름튀기는 소리     sound    NaN   \n71568      일반(정상)          실내      실내_화장실   얼굴을씻는소리     sound    NaN   \n71569      일반(정상)          실내       실내_주방     밥솥 소리     sound    NaN   \n\n      generation dialect  \n71565        NaN     NaN  \n71566        NaN     NaN  \n71567        NaN     NaN  \n71568        NaN     NaN  \n71569        NaN     NaN  ",
      "text/html": "<div>\n<style scoped>\n    .dataframe tbody tr th:only-of-type {\n        vertical-align: middle;\n    }\n\n    .dataframe tbody tr th {\n        vertical-align: top;\n    }\n\n    .dataframe thead th {\n        text-align: right;\n    }\n</style>\n<table border=\"1\" class=\"dataframe\">\n  <thead>\n    <tr style=\"text-align: right;\">\n      <th></th>\n      <th>fileSize</th>\n      <th>duration</th>\n      <th>audio_id</th>\n      <th>area_start</th>\n      <th>area_end</th>\n      <th>category_01</th>\n      <th>category_02</th>\n      <th>category_03</th>\n      <th>note</th>\n      <th>audioType</th>\n      <th>gender</th>\n      <th>generation</th>\n      <th>dialect</th>\n    </tr>\n  </thead>\n  <tbody>\n    <tr>\n      <th>71565</th>\n      <td>18003572</td>\n      <td>102.061</td>\n      <td>15.실내_915418_label</td>\n      <td>3.0</td>\n      <td>99.061</td>\n      <td>일반(정상)</td>\n      <td>실내</td>\n      <td>실내_주방</td>\n      <td>전자레인지소리</td>\n      <td>sound</td>\n      <td>NaN</td>\n      <td>NaN</td>\n      <td>NaN</td>\n    </tr>\n    <tr>\n      <th>71566</th>\n      <td>19260428</td>\n      <td>100.314</td>\n      <td>15.실내_892249_label</td>\n      <td>3.0</td>\n      <td>97.315</td>\n      <td>일반(정상)</td>\n      <td>실내</td>\n      <td>실내_공통</td>\n      <td>악기 이용 소리</td>\n      <td>sound</td>\n      <td>NaN</td>\n      <td>NaN</td>\n      <td>NaN</td>\n    </tr>\n    <tr>\n      <th>71567</th>\n      <td>19641972</td>\n      <td>111.349</td>\n      <td>15.실내_915841_label</td>\n      <td>3.0</td>\n      <td>108.349</td>\n      <td>일반(정상)</td>\n      <td>실내</td>\n      <td>실내_주방</td>\n      <td>기름튀기는 소리</td>\n      <td>sound</td>\n      <td>NaN</td>\n      <td>NaN</td>\n      <td>NaN</td>\n    </tr>\n    <tr>\n      <th>71568</th>\n      <td>20784140</td>\n      <td>108.250</td>\n      <td>15.실내_918360_label</td>\n      <td>3.0</td>\n      <td>105.251</td>\n      <td>일반(정상)</td>\n      <td>실내</td>\n      <td>실내_화장실</td>\n      <td>얼굴을씻는소리</td>\n      <td>sound</td>\n      <td>NaN</td>\n      <td>NaN</td>\n      <td>NaN</td>\n    </tr>\n    <tr>\n      <th>71569</th>\n      <td>37628752</td>\n      <td>426.629</td>\n      <td>15.실내_906200_label</td>\n      <td>3.0</td>\n      <td>423.629</td>\n      <td>일반(정상)</td>\n      <td>실내</td>\n      <td>실내_주방</td>\n      <td>밥솥 소리</td>\n      <td>sound</td>\n      <td>NaN</td>\n      <td>NaN</td>\n      <td>NaN</td>\n    </tr>\n  </tbody>\n</table>\n</div>"
     },
     "metadata": {},
     "output_type": "display_data"
    }
   ],
   "source": [
    "from IPython.core.display_functions import display\n",
    "\n",
    "csv_filename = '2023-02-06-강제추행,강제범,실내.csv'\n",
    "df = pd.read_csv(csv_filename, encoding='utf8', low_memory=False)\n",
    "pd.set_option('display.max_columns', None)\n",
    "display(df.head())\n",
    "display(df.tail())"
   ],
   "metadata": {
    "collapsed": false,
    "pycharm": {
     "name": "#%%\n"
    }
   }
  },
  {
   "cell_type": "code",
   "execution_count": 45,
   "outputs": [
    {
     "data": {
      "text/plain": "category_02\n강도범죄         19490\n강제추행(성범죄)    20925\n도움요청         40735\n실내           31155\n실외           12085\n절도범죄         12646\n폭력범죄         41612\nName: audio_id, dtype: int64"
     },
     "execution_count": 45,
     "metadata": {},
     "output_type": "execute_result"
    }
   ],
   "source": [
    "data_merged.groupby('category_02')['audio_id'].count()\n",
    "# 카테고리_02를 통해 분류해야할 듯"
   ],
   "metadata": {
    "collapsed": false,
    "pycharm": {
     "name": "#%%\n"
    }
   }
  },
  {
   "cell_type": "code",
   "execution_count": 8,
   "outputs": [
    {
     "data": {
      "text/plain": "array(['voice', 'sound'], dtype=object)"
     },
     "execution_count": 8,
     "metadata": {},
     "output_type": "execute_result"
    }
   ],
   "source": [
    "data_merged['audioType'].unique()"
   ],
   "metadata": {
    "collapsed": false,
    "pycharm": {
     "name": "#%%\n"
    }
   }
  },
  {
   "cell_type": "code",
   "execution_count": 9,
   "outputs": [
    {
     "data": {
      "text/plain": "category_03\n남_노인_강도범죄_꼼짝 말고 있어_입막음소리    120\n남_노인_강도범죄_꼼짝마_입막음소리         115\n남_노인_강도범죄_돈 내놔_비명소리         263\n남_노인_강도범죄_반항하면 죽는다_입막음소리    121\n남_노인_강도범죄_빨리 안 내놔_비명소리      260\n                           ... \n여_폭력범죄_살려주세요_실외기             29\n여_폭력범죄_살려주세요_우는소리           141\n여_폭력범죄_신고해줘                  16\n여_폭력범죄_신고해줘_우는소리            345\n여_폭력범죄_죽고싶냐                  29\nName: audio_id, Length: 169, dtype: int64"
     },
     "execution_count": 9,
     "metadata": {},
     "output_type": "execute_result"
    }
   ],
   "source": [
    "data_merged.groupby('category_03')['audio_id'].count()\n",
    "# 종류가 너무 많음"
   ],
   "metadata": {
    "collapsed": false,
    "pycharm": {
     "name": "#%%\n"
    }
   }
  },
  {
   "cell_type": "code",
   "execution_count": 10,
   "outputs": [
    {
     "data": {
      "text/plain": "gender\nfemale    64206\nmale      30467\nNaN       31155\nName: audio_id, dtype: int64"
     },
     "execution_count": 10,
     "metadata": {},
     "output_type": "execute_result"
    }
   ],
   "source": [
    "data_merged.groupby(['gender'], dropna=False)['audio_id'].count()"
   ],
   "metadata": {
    "collapsed": false,
    "pycharm": {
     "name": "#%%\n"
    }
   }
  },
  {
   "cell_type": "code",
   "execution_count": 11,
   "outputs": [
    {
     "data": {
      "text/plain": "dialect\nkyongsang      142\nstandard     94531\nNaN          31155\nName: audio_id, dtype: int64"
     },
     "execution_count": 11,
     "metadata": {},
     "output_type": "execute_result"
    }
   ],
   "source": [
    "data_merged.groupby(['dialect'], dropna=False)['audio_id'].count()"
   ],
   "metadata": {
    "collapsed": false,
    "pycharm": {
     "name": "#%%\n"
    }
   }
  },
  {
   "cell_type": "code",
   "execution_count": 13,
   "outputs": [
    {
     "data": {
      "text/plain": "generation\nadult       49624\nchild        7872\nsenior      22008\nteenager    15169\nNaN         31155\nName: audio_id, dtype: int64"
     },
     "execution_count": 13,
     "metadata": {},
     "output_type": "execute_result"
    }
   ],
   "source": [
    "data_merged.groupby(['generation'], dropna=False)['audio_id'].count()"
   ],
   "metadata": {
    "collapsed": false,
    "pycharm": {
     "name": "#%%\n"
    }
   }
  },
  {
   "cell_type": "code",
   "execution_count": 14,
   "outputs": [
    {
     "data": {
      "text/plain": "            duration     area_start       area_end\ncount  125828.000000  125828.000000  125828.000000\nmean       24.039450       4.699125      18.363890\nstd        17.834282       2.671588      17.820396\nmin         2.090000       0.045000       2.405000\n25%        10.350750       3.000000       6.460000\n50%        14.592000       4.000000       9.819000\n75%        34.247000       5.000000      21.686500\nmax       426.629000      18.876500     423.629000",
      "text/html": "<div>\n<style scoped>\n    .dataframe tbody tr th:only-of-type {\n        vertical-align: middle;\n    }\n\n    .dataframe tbody tr th {\n        vertical-align: top;\n    }\n\n    .dataframe thead th {\n        text-align: right;\n    }\n</style>\n<table border=\"1\" class=\"dataframe\">\n  <thead>\n    <tr style=\"text-align: right;\">\n      <th></th>\n      <th>duration</th>\n      <th>area_start</th>\n      <th>area_end</th>\n    </tr>\n  </thead>\n  <tbody>\n    <tr>\n      <th>count</th>\n      <td>125828.000000</td>\n      <td>125828.000000</td>\n      <td>125828.000000</td>\n    </tr>\n    <tr>\n      <th>mean</th>\n      <td>24.039450</td>\n      <td>4.699125</td>\n      <td>18.363890</td>\n    </tr>\n    <tr>\n      <th>std</th>\n      <td>17.834282</td>\n      <td>2.671588</td>\n      <td>17.820396</td>\n    </tr>\n    <tr>\n      <th>min</th>\n      <td>2.090000</td>\n      <td>0.045000</td>\n      <td>2.405000</td>\n    </tr>\n    <tr>\n      <th>25%</th>\n      <td>10.350750</td>\n      <td>3.000000</td>\n      <td>6.460000</td>\n    </tr>\n    <tr>\n      <th>50%</th>\n      <td>14.592000</td>\n      <td>4.000000</td>\n      <td>9.819000</td>\n    </tr>\n    <tr>\n      <th>75%</th>\n      <td>34.247000</td>\n      <td>5.000000</td>\n      <td>21.686500</td>\n    </tr>\n    <tr>\n      <th>max</th>\n      <td>426.629000</td>\n      <td>18.876500</td>\n      <td>423.629000</td>\n    </tr>\n  </tbody>\n</table>\n</div>"
     },
     "execution_count": 14,
     "metadata": {},
     "output_type": "execute_result"
    }
   ],
   "source": [
    "data_merged[['duration','area_start', 'area_end']].describe()"
   ],
   "metadata": {
    "collapsed": false,
    "pycharm": {
     "name": "#%%\n"
    }
   }
  },
  {
   "cell_type": "code",
   "execution_count": 15,
   "outputs": [
    {
     "name": "stderr",
     "output_type": "stream",
     "text": [
      "/opt/anaconda3/lib/python3.7/site-packages/ipykernel_launcher.py:1: FutureWarning: Indexing with multiple keys (implicitly converted to a tuple of keys) will be deprecated, use a list instead.\n",
      "  \"\"\"Entry point for launching an IPython kernel.\n"
     ]
    },
    {
     "data": {
      "text/plain": "              duration                 area_start                   area_end  \\\n                  mean      max    min       mean      max    min       mean   \ncategory_02                                                                    \n강도범죄         14.881141   39.753  2.090   5.824977  18.8765  0.045   8.906141   \n강제추행(성범죄)    15.377059   30.000  5.360   5.298614   9.0000  2.500   8.150938   \n실내           49.117416  426.629  6.811   2.998448   5.0000  2.000  46.118974   \n절도범죄         23.244099   30.000  5.570   6.571643   9.0000  2.500  13.137213   \n폭력범죄         14.150714   82.810  5.360   4.574584  16.5000  1.000   8.737446   \n\n                              \n                  max    min  \ncategory_02                   \n강도범죄          22.7865  2.405  \n강제추행(성범죄)     20.0130  2.860  \n실내           423.6290  3.811  \n절도범죄          24.7110  3.070  \n폭력범죄          80.4100  2.860  ",
      "text/html": "<div>\n<style scoped>\n    .dataframe tbody tr th:only-of-type {\n        vertical-align: middle;\n    }\n\n    .dataframe tbody tr th {\n        vertical-align: top;\n    }\n\n    .dataframe thead tr th {\n        text-align: left;\n    }\n\n    .dataframe thead tr:last-of-type th {\n        text-align: right;\n    }\n</style>\n<table border=\"1\" class=\"dataframe\">\n  <thead>\n    <tr>\n      <th></th>\n      <th colspan=\"3\" halign=\"left\">duration</th>\n      <th colspan=\"3\" halign=\"left\">area_start</th>\n      <th colspan=\"3\" halign=\"left\">area_end</th>\n    </tr>\n    <tr>\n      <th></th>\n      <th>mean</th>\n      <th>max</th>\n      <th>min</th>\n      <th>mean</th>\n      <th>max</th>\n      <th>min</th>\n      <th>mean</th>\n      <th>max</th>\n      <th>min</th>\n    </tr>\n    <tr>\n      <th>category_02</th>\n      <th></th>\n      <th></th>\n      <th></th>\n      <th></th>\n      <th></th>\n      <th></th>\n      <th></th>\n      <th></th>\n      <th></th>\n    </tr>\n  </thead>\n  <tbody>\n    <tr>\n      <th>강도범죄</th>\n      <td>14.881141</td>\n      <td>39.753</td>\n      <td>2.090</td>\n      <td>5.824977</td>\n      <td>18.8765</td>\n      <td>0.045</td>\n      <td>8.906141</td>\n      <td>22.7865</td>\n      <td>2.405</td>\n    </tr>\n    <tr>\n      <th>강제추행(성범죄)</th>\n      <td>15.377059</td>\n      <td>30.000</td>\n      <td>5.360</td>\n      <td>5.298614</td>\n      <td>9.0000</td>\n      <td>2.500</td>\n      <td>8.150938</td>\n      <td>20.0130</td>\n      <td>2.860</td>\n    </tr>\n    <tr>\n      <th>실내</th>\n      <td>49.117416</td>\n      <td>426.629</td>\n      <td>6.811</td>\n      <td>2.998448</td>\n      <td>5.0000</td>\n      <td>2.000</td>\n      <td>46.118974</td>\n      <td>423.6290</td>\n      <td>3.811</td>\n    </tr>\n    <tr>\n      <th>절도범죄</th>\n      <td>23.244099</td>\n      <td>30.000</td>\n      <td>5.570</td>\n      <td>6.571643</td>\n      <td>9.0000</td>\n      <td>2.500</td>\n      <td>13.137213</td>\n      <td>24.7110</td>\n      <td>3.070</td>\n    </tr>\n    <tr>\n      <th>폭력범죄</th>\n      <td>14.150714</td>\n      <td>82.810</td>\n      <td>5.360</td>\n      <td>4.574584</td>\n      <td>16.5000</td>\n      <td>1.000</td>\n      <td>8.737446</td>\n      <td>80.4100</td>\n      <td>2.860</td>\n    </tr>\n  </tbody>\n</table>\n</div>"
     },
     "execution_count": 15,
     "metadata": {},
     "output_type": "execute_result"
    }
   ],
   "source": [
    "data_merged.groupby('category_02')['duration','area_start', 'area_end'].agg(['mean', 'max', 'min'])\n",
    "# 실내 duration max가 지나치게 크다"
   ],
   "metadata": {
    "collapsed": false,
    "pycharm": {
     "name": "#%%\n"
    }
   }
  },
  {
   "cell_type": "code",
   "execution_count": 16,
   "outputs": [
    {
     "data": {
      "text/plain": "           duration    area_start      area_end\ncount  19490.000000  19490.000000  19490.000000\nmean      14.881141      5.824977      8.906141\nstd       10.405116      4.810202      5.001641\nmin        2.090000      0.045000      2.405000\n25%        7.941000      3.000000      5.330500\n50%        9.456000      3.156500      6.678250\n75%       19.551000      8.775500     11.632750\nmax       39.753000     18.876500     22.786500",
      "text/html": "<div>\n<style scoped>\n    .dataframe tbody tr th:only-of-type {\n        vertical-align: middle;\n    }\n\n    .dataframe tbody tr th {\n        vertical-align: top;\n    }\n\n    .dataframe thead th {\n        text-align: right;\n    }\n</style>\n<table border=\"1\" class=\"dataframe\">\n  <thead>\n    <tr style=\"text-align: right;\">\n      <th></th>\n      <th>duration</th>\n      <th>area_start</th>\n      <th>area_end</th>\n    </tr>\n  </thead>\n  <tbody>\n    <tr>\n      <th>count</th>\n      <td>19490.000000</td>\n      <td>19490.000000</td>\n      <td>19490.000000</td>\n    </tr>\n    <tr>\n      <th>mean</th>\n      <td>14.881141</td>\n      <td>5.824977</td>\n      <td>8.906141</td>\n    </tr>\n    <tr>\n      <th>std</th>\n      <td>10.405116</td>\n      <td>4.810202</td>\n      <td>5.001641</td>\n    </tr>\n    <tr>\n      <th>min</th>\n      <td>2.090000</td>\n      <td>0.045000</td>\n      <td>2.405000</td>\n    </tr>\n    <tr>\n      <th>25%</th>\n      <td>7.941000</td>\n      <td>3.000000</td>\n      <td>5.330500</td>\n    </tr>\n    <tr>\n      <th>50%</th>\n      <td>9.456000</td>\n      <td>3.156500</td>\n      <td>6.678250</td>\n    </tr>\n    <tr>\n      <th>75%</th>\n      <td>19.551000</td>\n      <td>8.775500</td>\n      <td>11.632750</td>\n    </tr>\n    <tr>\n      <th>max</th>\n      <td>39.753000</td>\n      <td>18.876500</td>\n      <td>22.786500</td>\n    </tr>\n  </tbody>\n</table>\n</div>"
     },
     "execution_count": 16,
     "metadata": {},
     "output_type": "execute_result"
    }
   ],
   "source": [
    "data_merged[data_merged['category_02'] == '강도범죄'][['duration','area_start', 'area_end']].describe()"
   ],
   "metadata": {
    "collapsed": false,
    "pycharm": {
     "name": "#%%\n"
    }
   }
  },
  {
   "cell_type": "code",
   "execution_count": 17,
   "outputs": [
    {
     "data": {
      "text/plain": "           duration    area_start      area_end\ncount  20925.000000  20925.000000  20925.000000\nmean      15.377059      5.298614      8.150938\nstd        8.724041      2.206293      3.396090\nmin        5.360000      2.500000      2.860000\n25%        9.970000      4.000000      5.970000\n50%       10.340000      4.000000      6.340000\n75%       30.000000      9.000000     12.142000\nmax       30.000000      9.000000     20.013000",
      "text/html": "<div>\n<style scoped>\n    .dataframe tbody tr th:only-of-type {\n        vertical-align: middle;\n    }\n\n    .dataframe tbody tr th {\n        vertical-align: top;\n    }\n\n    .dataframe thead th {\n        text-align: right;\n    }\n</style>\n<table border=\"1\" class=\"dataframe\">\n  <thead>\n    <tr style=\"text-align: right;\">\n      <th></th>\n      <th>duration</th>\n      <th>area_start</th>\n      <th>area_end</th>\n    </tr>\n  </thead>\n  <tbody>\n    <tr>\n      <th>count</th>\n      <td>20925.000000</td>\n      <td>20925.000000</td>\n      <td>20925.000000</td>\n    </tr>\n    <tr>\n      <th>mean</th>\n      <td>15.377059</td>\n      <td>5.298614</td>\n      <td>8.150938</td>\n    </tr>\n    <tr>\n      <th>std</th>\n      <td>8.724041</td>\n      <td>2.206293</td>\n      <td>3.396090</td>\n    </tr>\n    <tr>\n      <th>min</th>\n      <td>5.360000</td>\n      <td>2.500000</td>\n      <td>2.860000</td>\n    </tr>\n    <tr>\n      <th>25%</th>\n      <td>9.970000</td>\n      <td>4.000000</td>\n      <td>5.970000</td>\n    </tr>\n    <tr>\n      <th>50%</th>\n      <td>10.340000</td>\n      <td>4.000000</td>\n      <td>6.340000</td>\n    </tr>\n    <tr>\n      <th>75%</th>\n      <td>30.000000</td>\n      <td>9.000000</td>\n      <td>12.142000</td>\n    </tr>\n    <tr>\n      <th>max</th>\n      <td>30.000000</td>\n      <td>9.000000</td>\n      <td>20.013000</td>\n    </tr>\n  </tbody>\n</table>\n</div>"
     },
     "execution_count": 17,
     "metadata": {},
     "output_type": "execute_result"
    }
   ],
   "source": [
    "data_merged[data_merged['category_02'] == '강제추행(성범죄)'][['duration','area_start', 'area_end']].describe()"
   ],
   "metadata": {
    "collapsed": false,
    "pycharm": {
     "name": "#%%\n"
    }
   }
  },
  {
   "cell_type": "code",
   "execution_count": 18,
   "outputs": [
    {
     "data": {
      "text/plain": "           duration    area_start      area_end\ncount  31155.000000  31155.000000  31155.000000\nmean      49.117416      2.998448     46.118974\nstd       13.968318      0.939683     13.974351\nmin        6.811000      2.000000      3.811000\n25%       36.600000      2.000000     33.300000\n50%       42.953000      3.000000     40.367000\n75%       64.000000      3.700000     62.000000\nmax      426.629000      5.000000    423.629000",
      "text/html": "<div>\n<style scoped>\n    .dataframe tbody tr th:only-of-type {\n        vertical-align: middle;\n    }\n\n    .dataframe tbody tr th {\n        vertical-align: top;\n    }\n\n    .dataframe thead th {\n        text-align: right;\n    }\n</style>\n<table border=\"1\" class=\"dataframe\">\n  <thead>\n    <tr style=\"text-align: right;\">\n      <th></th>\n      <th>duration</th>\n      <th>area_start</th>\n      <th>area_end</th>\n    </tr>\n  </thead>\n  <tbody>\n    <tr>\n      <th>count</th>\n      <td>31155.000000</td>\n      <td>31155.000000</td>\n      <td>31155.000000</td>\n    </tr>\n    <tr>\n      <th>mean</th>\n      <td>49.117416</td>\n      <td>2.998448</td>\n      <td>46.118974</td>\n    </tr>\n    <tr>\n      <th>std</th>\n      <td>13.968318</td>\n      <td>0.939683</td>\n      <td>13.974351</td>\n    </tr>\n    <tr>\n      <th>min</th>\n      <td>6.811000</td>\n      <td>2.000000</td>\n      <td>3.811000</td>\n    </tr>\n    <tr>\n      <th>25%</th>\n      <td>36.600000</td>\n      <td>2.000000</td>\n      <td>33.300000</td>\n    </tr>\n    <tr>\n      <th>50%</th>\n      <td>42.953000</td>\n      <td>3.000000</td>\n      <td>40.367000</td>\n    </tr>\n    <tr>\n      <th>75%</th>\n      <td>64.000000</td>\n      <td>3.700000</td>\n      <td>62.000000</td>\n    </tr>\n    <tr>\n      <th>max</th>\n      <td>426.629000</td>\n      <td>5.000000</td>\n      <td>423.629000</td>\n    </tr>\n  </tbody>\n</table>\n</div>"
     },
     "execution_count": 18,
     "metadata": {},
     "output_type": "execute_result"
    }
   ],
   "source": [
    "data_merged[data_merged['category_02'] == '실내'][['duration','area_start', 'area_end']].describe()"
   ],
   "metadata": {
    "collapsed": false,
    "pycharm": {
     "name": "#%%\n"
    }
   }
  },
  {
   "cell_type": "code",
   "execution_count": 20,
   "outputs": [
    {
     "data": {
      "text/plain": "           fileSize       duration     area_start       area_end\ncount  1.060040e+05  106004.000000  106004.000000  106004.000000\nmean   2.977498e+06      17.766667       4.956062      11.849840\nstd    2.176387e+06      10.145583       2.701458       8.618875\nmin    1.843820e+05       2.090000       0.045000       2.405000\n25%    9.261220e+05      10.110000       3.300000       6.230000\n50%    2.412088e+06      13.030000       4.000000       8.278000\n75%    5.292044e+06      30.000000       5.000000      13.200000\nmax    1.356017e+07      39.753000      18.876500      37.740000",
      "text/html": "<div>\n<style scoped>\n    .dataframe tbody tr th:only-of-type {\n        vertical-align: middle;\n    }\n\n    .dataframe tbody tr th {\n        vertical-align: top;\n    }\n\n    .dataframe thead th {\n        text-align: right;\n    }\n</style>\n<table border=\"1\" class=\"dataframe\">\n  <thead>\n    <tr style=\"text-align: right;\">\n      <th></th>\n      <th>fileSize</th>\n      <th>duration</th>\n      <th>area_start</th>\n      <th>area_end</th>\n    </tr>\n  </thead>\n  <tbody>\n    <tr>\n      <th>count</th>\n      <td>1.060040e+05</td>\n      <td>106004.000000</td>\n      <td>106004.000000</td>\n      <td>106004.000000</td>\n    </tr>\n    <tr>\n      <th>mean</th>\n      <td>2.977498e+06</td>\n      <td>17.766667</td>\n      <td>4.956062</td>\n      <td>11.849840</td>\n    </tr>\n    <tr>\n      <th>std</th>\n      <td>2.176387e+06</td>\n      <td>10.145583</td>\n      <td>2.701458</td>\n      <td>8.618875</td>\n    </tr>\n    <tr>\n      <th>min</th>\n      <td>1.843820e+05</td>\n      <td>2.090000</td>\n      <td>0.045000</td>\n      <td>2.405000</td>\n    </tr>\n    <tr>\n      <th>25%</th>\n      <td>9.261220e+05</td>\n      <td>10.110000</td>\n      <td>3.300000</td>\n      <td>6.230000</td>\n    </tr>\n    <tr>\n      <th>50%</th>\n      <td>2.412088e+06</td>\n      <td>13.030000</td>\n      <td>4.000000</td>\n      <td>8.278000</td>\n    </tr>\n    <tr>\n      <th>75%</th>\n      <td>5.292044e+06</td>\n      <td>30.000000</td>\n      <td>5.000000</td>\n      <td>13.200000</td>\n    </tr>\n    <tr>\n      <th>max</th>\n      <td>1.356017e+07</td>\n      <td>39.753000</td>\n      <td>18.876500</td>\n      <td>37.740000</td>\n    </tr>\n  </tbody>\n</table>\n</div>"
     },
     "execution_count": 20,
     "metadata": {},
     "output_type": "execute_result"
    }
   ],
   "source": [
    "duration_max = data_merged[data_merged['category_02'] == '강도범죄']['duration'].max()\n",
    "# 데이터를 조금 잘라보자\n",
    "df_trun = data_merged[data_merged['duration'] <= duration_max]\n",
    "df_trun.describe()"
   ],
   "metadata": {
    "collapsed": false,
    "pycharm": {
     "name": "#%%\n"
    }
   }
  },
  {
   "cell_type": "code",
   "execution_count": 26,
   "outputs": [
    {
     "data": {
      "text/plain": "           fileSize      duration    area_start      area_end\ncount  3.400400e+04  34004.000000  34004.000000  34004.000000\nmean   4.603533e+06     29.687415      2.507864     27.259489\nstd    3.861135e+06     23.201528      0.587198     23.286983\nmin    1.843820e+05      2.090000      0.045000      2.405000\n25%    7.972820e+05      8.096000      2.000000      5.276000\n50%    3.673099e+06     21.682000      3.000000     19.243000\n75%    7.254644e+06     43.918000      3.000000     41.899000\nmax    3.762875e+07    426.629000      3.000000    423.629000",
      "text/html": "<div>\n<style scoped>\n    .dataframe tbody tr th:only-of-type {\n        vertical-align: middle;\n    }\n\n    .dataframe tbody tr th {\n        vertical-align: top;\n    }\n\n    .dataframe thead th {\n        text-align: right;\n    }\n</style>\n<table border=\"1\" class=\"dataframe\">\n  <thead>\n    <tr style=\"text-align: right;\">\n      <th></th>\n      <th>fileSize</th>\n      <th>duration</th>\n      <th>area_start</th>\n      <th>area_end</th>\n    </tr>\n  </thead>\n  <tbody>\n    <tr>\n      <th>count</th>\n      <td>3.400400e+04</td>\n      <td>34004.000000</td>\n      <td>34004.000000</td>\n      <td>34004.000000</td>\n    </tr>\n    <tr>\n      <th>mean</th>\n      <td>4.603533e+06</td>\n      <td>29.687415</td>\n      <td>2.507864</td>\n      <td>27.259489</td>\n    </tr>\n    <tr>\n      <th>std</th>\n      <td>3.861135e+06</td>\n      <td>23.201528</td>\n      <td>0.587198</td>\n      <td>23.286983</td>\n    </tr>\n    <tr>\n      <th>min</th>\n      <td>1.843820e+05</td>\n      <td>2.090000</td>\n      <td>0.045000</td>\n      <td>2.405000</td>\n    </tr>\n    <tr>\n      <th>25%</th>\n      <td>7.972820e+05</td>\n      <td>8.096000</td>\n      <td>2.000000</td>\n      <td>5.276000</td>\n    </tr>\n    <tr>\n      <th>50%</th>\n      <td>3.673099e+06</td>\n      <td>21.682000</td>\n      <td>3.000000</td>\n      <td>19.243000</td>\n    </tr>\n    <tr>\n      <th>75%</th>\n      <td>7.254644e+06</td>\n      <td>43.918000</td>\n      <td>3.000000</td>\n      <td>41.899000</td>\n    </tr>\n    <tr>\n      <th>max</th>\n      <td>3.762875e+07</td>\n      <td>426.629000</td>\n      <td>3.000000</td>\n      <td>423.629000</td>\n    </tr>\n  </tbody>\n</table>\n</div>"
     },
     "execution_count": 26,
     "metadata": {},
     "output_type": "execute_result"
    }
   ],
   "source": [
    "df_trun_2 = data_merged[data_merged['area_start'] <= 3]\n",
    "df_trun_2.describe()"
   ],
   "metadata": {
    "collapsed": false,
    "pycharm": {
     "name": "#%%\n"
    }
   }
  },
  {
   "cell_type": "code",
   "execution_count": 30,
   "outputs": [
    {
     "data": {
      "text/plain": "category_02\n강도범죄          9386\n강제추행(성범죄)      151\n실내           16919\n절도범죄           304\n폭력범죄          7244\nName: audio_id, dtype: int64"
     },
     "execution_count": 30,
     "metadata": {},
     "output_type": "execute_result"
    }
   ],
   "source": [
    "df_trun_2.groupby('category_02')['audio_id'].count()\n"
   ],
   "metadata": {
    "collapsed": false,
    "pycharm": {
     "name": "#%%\n"
    }
   }
  },
  {
   "cell_type": "code",
   "execution_count": 31,
   "outputs": [
    {
     "data": {
      "text/plain": "           fileSize      duration   area_start      area_end\ncount  1.665100e+04  16651.000000  16651.00000  16651.000000\nmean   1.183056e+06      8.524052      2.74392      5.943367\nstd    9.123726e+05      2.701495      0.61006      2.377487\nmin    1.843820e+05      2.090000      0.04500      2.405000\n25%    6.580680e+05      7.390000      2.97050      4.706250\n50%    7.935100e+05      8.053000      3.00000      5.250000\n75%    1.470712e+06      9.369000      3.00000      6.391000\nmax    6.037700e+06     19.993000      3.00000     18.993000",
      "text/html": "<div>\n<style scoped>\n    .dataframe tbody tr th:only-of-type {\n        vertical-align: middle;\n    }\n\n    .dataframe tbody tr th {\n        vertical-align: top;\n    }\n\n    .dataframe thead th {\n        text-align: right;\n    }\n</style>\n<table border=\"1\" class=\"dataframe\">\n  <thead>\n    <tr style=\"text-align: right;\">\n      <th></th>\n      <th>fileSize</th>\n      <th>duration</th>\n      <th>area_start</th>\n      <th>area_end</th>\n    </tr>\n  </thead>\n  <tbody>\n    <tr>\n      <th>count</th>\n      <td>1.665100e+04</td>\n      <td>16651.000000</td>\n      <td>16651.00000</td>\n      <td>16651.000000</td>\n    </tr>\n    <tr>\n      <th>mean</th>\n      <td>1.183056e+06</td>\n      <td>8.524052</td>\n      <td>2.74392</td>\n      <td>5.943367</td>\n    </tr>\n    <tr>\n      <th>std</th>\n      <td>9.123726e+05</td>\n      <td>2.701495</td>\n      <td>0.61006</td>\n      <td>2.377487</td>\n    </tr>\n    <tr>\n      <th>min</th>\n      <td>1.843820e+05</td>\n      <td>2.090000</td>\n      <td>0.04500</td>\n      <td>2.405000</td>\n    </tr>\n    <tr>\n      <th>25%</th>\n      <td>6.580680e+05</td>\n      <td>7.390000</td>\n      <td>2.97050</td>\n      <td>4.706250</td>\n    </tr>\n    <tr>\n      <th>50%</th>\n      <td>7.935100e+05</td>\n      <td>8.053000</td>\n      <td>3.00000</td>\n      <td>5.250000</td>\n    </tr>\n    <tr>\n      <th>75%</th>\n      <td>1.470712e+06</td>\n      <td>9.369000</td>\n      <td>3.00000</td>\n      <td>6.391000</td>\n    </tr>\n    <tr>\n      <th>max</th>\n      <td>6.037700e+06</td>\n      <td>19.993000</td>\n      <td>3.00000</td>\n      <td>18.993000</td>\n    </tr>\n  </tbody>\n</table>\n</div>"
     },
     "execution_count": 31,
     "metadata": {},
     "output_type": "execute_result"
    }
   ],
   "source": [
    "df_trun_3 = df_trun_2[df_trun_2['duration'] <= 20]\n",
    "df_trun_3.describe()\n"
   ],
   "metadata": {
    "collapsed": false,
    "pycharm": {
     "name": "#%%\n"
    }
   }
  },
  {
   "cell_type": "code",
   "execution_count": 32,
   "outputs": [
    {
     "name": "stderr",
     "output_type": "stream",
     "text": [
      "/opt/anaconda3/lib/python3.7/site-packages/ipykernel_launcher.py:1: FutureWarning: Indexing with multiple keys (implicitly converted to a tuple of keys) will be deprecated, use a list instead.\n",
      "  \"\"\"Entry point for launching an IPython kernel.\n"
     ]
    },
    {
     "data": {
      "text/plain": "              duration                area_start               area_end  \\\n                  mean     max    min       mean  max    min       mean   \ncategory_02                                                               \n강도범죄          7.990823  16.669  2.090   2.622737  3.0  0.045   5.657657   \n강제추행(성범죄)     6.610980  10.981  5.360   2.612583  3.0  2.500   3.998417   \n실내           14.592314  19.960  6.811   2.314286  3.0  2.000  12.278029   \n절도범죄          6.136480   7.460  5.570   2.500000  2.5  2.500   3.636480   \n폭력범죄          9.381203  19.993  5.360   2.927897  3.0  1.000   6.453320   \n\n                            \n                max    min  \ncategory_02                 \n강도범죄         13.669  2.405  \n강제추행(성범죄)     7.981  2.860  \n실내           17.960  3.811  \n절도범죄          4.960  3.070  \n폭력범죄         18.993  2.860  ",
      "text/html": "<div>\n<style scoped>\n    .dataframe tbody tr th:only-of-type {\n        vertical-align: middle;\n    }\n\n    .dataframe tbody tr th {\n        vertical-align: top;\n    }\n\n    .dataframe thead tr th {\n        text-align: left;\n    }\n\n    .dataframe thead tr:last-of-type th {\n        text-align: right;\n    }\n</style>\n<table border=\"1\" class=\"dataframe\">\n  <thead>\n    <tr>\n      <th></th>\n      <th colspan=\"3\" halign=\"left\">duration</th>\n      <th colspan=\"3\" halign=\"left\">area_start</th>\n      <th colspan=\"3\" halign=\"left\">area_end</th>\n    </tr>\n    <tr>\n      <th></th>\n      <th>mean</th>\n      <th>max</th>\n      <th>min</th>\n      <th>mean</th>\n      <th>max</th>\n      <th>min</th>\n      <th>mean</th>\n      <th>max</th>\n      <th>min</th>\n    </tr>\n    <tr>\n      <th>category_02</th>\n      <th></th>\n      <th></th>\n      <th></th>\n      <th></th>\n      <th></th>\n      <th></th>\n      <th></th>\n      <th></th>\n      <th></th>\n    </tr>\n  </thead>\n  <tbody>\n    <tr>\n      <th>강도범죄</th>\n      <td>7.990823</td>\n      <td>16.669</td>\n      <td>2.090</td>\n      <td>2.622737</td>\n      <td>3.0</td>\n      <td>0.045</td>\n      <td>5.657657</td>\n      <td>13.669</td>\n      <td>2.405</td>\n    </tr>\n    <tr>\n      <th>강제추행(성범죄)</th>\n      <td>6.610980</td>\n      <td>10.981</td>\n      <td>5.360</td>\n      <td>2.612583</td>\n      <td>3.0</td>\n      <td>2.500</td>\n      <td>3.998417</td>\n      <td>7.981</td>\n      <td>2.860</td>\n    </tr>\n    <tr>\n      <th>실내</th>\n      <td>14.592314</td>\n      <td>19.960</td>\n      <td>6.811</td>\n      <td>2.314286</td>\n      <td>3.0</td>\n      <td>2.000</td>\n      <td>12.278029</td>\n      <td>17.960</td>\n      <td>3.811</td>\n    </tr>\n    <tr>\n      <th>절도범죄</th>\n      <td>6.136480</td>\n      <td>7.460</td>\n      <td>5.570</td>\n      <td>2.500000</td>\n      <td>2.5</td>\n      <td>2.500</td>\n      <td>3.636480</td>\n      <td>4.960</td>\n      <td>3.070</td>\n    </tr>\n    <tr>\n      <th>폭력범죄</th>\n      <td>9.381203</td>\n      <td>19.993</td>\n      <td>5.360</td>\n      <td>2.927897</td>\n      <td>3.0</td>\n      <td>1.000</td>\n      <td>6.453320</td>\n      <td>18.993</td>\n      <td>2.860</td>\n    </tr>\n  </tbody>\n</table>\n</div>"
     },
     "execution_count": 32,
     "metadata": {},
     "output_type": "execute_result"
    }
   ],
   "source": [
    "df_trun_3.groupby('category_02')['duration','area_start', 'area_end'].agg(['mean', 'max', 'min'])"
   ],
   "metadata": {
    "collapsed": false,
    "pycharm": {
     "name": "#%%\n"
    }
   }
  },
  {
   "cell_type": "code",
   "execution_count": 33,
   "outputs": [
    {
     "data": {
      "text/plain": "category_02\n강도범죄         9386\n강제추행(성범죄)     151\n실내             35\n절도범죄          304\n폭력범죄         6775\nName: audio_id, dtype: int64"
     },
     "execution_count": 33,
     "metadata": {},
     "output_type": "execute_result"
    }
   ],
   "source": [
    "df_trun_3.groupby('category_02')['audio_id'].count()\n",
    "# 8개\n"
   ],
   "metadata": {
    "collapsed": false,
    "pycharm": {
     "name": "#%%\n"
    }
   }
  },
  {
   "cell_type": "code",
   "execution_count": 34,
   "outputs": [
    {
     "name": "stderr",
     "output_type": "stream",
     "text": [
      "/opt/anaconda3/lib/python3.7/site-packages/ipykernel_launcher.py:1: FutureWarning: Indexing with multiple keys (implicitly converted to a tuple of keys) will be deprecated, use a list instead.\n",
      "  \"\"\"Entry point for launching an IPython kernel.\n"
     ]
    },
    {
     "data": {
      "text/plain": "                  duration  area_start  area_end\ncategory_02                                     \n강도범죄        0.25     6.687      2.3435   4.82025\n            0.50     7.941      3.0000   5.28350\n            0.75     9.009      3.0000   6.03600\n강제추행(성범죄)   0.25     5.855      2.5000   3.35500\n            0.50     6.020      2.5000   3.52000\n            0.75     6.460      2.5000   3.96000\n실내          0.25    10.270      2.0000   8.27000\n            0.50    16.006      2.0000  13.00600\n            0.75    19.960      3.0000  17.96000\n절도범죄        0.25     5.890      2.5000   3.39000\n            0.50     6.060      2.5000   3.56000\n            0.75     6.265      2.5000   3.76500\n폭력범죄        0.25     7.630      3.0000   4.63000\n            0.50     8.270      3.0000   5.27000\n            0.75    10.020      3.0000   7.02000",
      "text/html": "<div>\n<style scoped>\n    .dataframe tbody tr th:only-of-type {\n        vertical-align: middle;\n    }\n\n    .dataframe tbody tr th {\n        vertical-align: top;\n    }\n\n    .dataframe thead th {\n        text-align: right;\n    }\n</style>\n<table border=\"1\" class=\"dataframe\">\n  <thead>\n    <tr style=\"text-align: right;\">\n      <th></th>\n      <th></th>\n      <th>duration</th>\n      <th>area_start</th>\n      <th>area_end</th>\n    </tr>\n    <tr>\n      <th>category_02</th>\n      <th></th>\n      <th></th>\n      <th></th>\n      <th></th>\n    </tr>\n  </thead>\n  <tbody>\n    <tr>\n      <th rowspan=\"3\" valign=\"top\">강도범죄</th>\n      <th>0.25</th>\n      <td>6.687</td>\n      <td>2.3435</td>\n      <td>4.82025</td>\n    </tr>\n    <tr>\n      <th>0.50</th>\n      <td>7.941</td>\n      <td>3.0000</td>\n      <td>5.28350</td>\n    </tr>\n    <tr>\n      <th>0.75</th>\n      <td>9.009</td>\n      <td>3.0000</td>\n      <td>6.03600</td>\n    </tr>\n    <tr>\n      <th rowspan=\"3\" valign=\"top\">강제추행(성범죄)</th>\n      <th>0.25</th>\n      <td>5.855</td>\n      <td>2.5000</td>\n      <td>3.35500</td>\n    </tr>\n    <tr>\n      <th>0.50</th>\n      <td>6.020</td>\n      <td>2.5000</td>\n      <td>3.52000</td>\n    </tr>\n    <tr>\n      <th>0.75</th>\n      <td>6.460</td>\n      <td>2.5000</td>\n      <td>3.96000</td>\n    </tr>\n    <tr>\n      <th rowspan=\"3\" valign=\"top\">실내</th>\n      <th>0.25</th>\n      <td>10.270</td>\n      <td>2.0000</td>\n      <td>8.27000</td>\n    </tr>\n    <tr>\n      <th>0.50</th>\n      <td>16.006</td>\n      <td>2.0000</td>\n      <td>13.00600</td>\n    </tr>\n    <tr>\n      <th>0.75</th>\n      <td>19.960</td>\n      <td>3.0000</td>\n      <td>17.96000</td>\n    </tr>\n    <tr>\n      <th rowspan=\"3\" valign=\"top\">절도범죄</th>\n      <th>0.25</th>\n      <td>5.890</td>\n      <td>2.5000</td>\n      <td>3.39000</td>\n    </tr>\n    <tr>\n      <th>0.50</th>\n      <td>6.060</td>\n      <td>2.5000</td>\n      <td>3.56000</td>\n    </tr>\n    <tr>\n      <th>0.75</th>\n      <td>6.265</td>\n      <td>2.5000</td>\n      <td>3.76500</td>\n    </tr>\n    <tr>\n      <th rowspan=\"3\" valign=\"top\">폭력범죄</th>\n      <th>0.25</th>\n      <td>7.630</td>\n      <td>3.0000</td>\n      <td>4.63000</td>\n    </tr>\n    <tr>\n      <th>0.50</th>\n      <td>8.270</td>\n      <td>3.0000</td>\n      <td>5.27000</td>\n    </tr>\n    <tr>\n      <th>0.75</th>\n      <td>10.020</td>\n      <td>3.0000</td>\n      <td>7.02000</td>\n    </tr>\n  </tbody>\n</table>\n</div>"
     },
     "execution_count": 34,
     "metadata": {},
     "output_type": "execute_result"
    }
   ],
   "source": [
    "df_trun_3.groupby('category_02')['duration','area_start', 'area_end'].quantile([0.25, 0.5, 0.75])"
   ],
   "metadata": {
    "collapsed": false,
    "pycharm": {
     "name": "#%%\n"
    }
   }
  },
  {
   "cell_type": "code",
   "execution_count": null,
   "outputs": [],
   "source": [],
   "metadata": {
    "collapsed": false,
    "pycharm": {
     "name": "#%%\n"
    }
   }
  }
 ],
 "metadata": {
  "kernelspec": {
   "name": "base",
   "language": "python",
   "display_name": "base"
  },
  "language_info": {
   "codemirror_mode": {
    "name": "ipython",
    "version": 2
   },
   "file_extension": ".py",
   "mimetype": "text/x-python",
   "name": "python",
   "nbconvert_exporter": "python",
   "pygments_lexer": "ipython2",
   "version": "2.7.6"
  }
 },
 "nbformat": 4,
 "nbformat_minor": 0
}